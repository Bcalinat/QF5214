{
 "cells": [
  {
   "cell_type": "code",
   "execution_count": 2,
   "id": "49dac00b",
   "metadata": {},
   "outputs": [
    {
     "name": "stderr",
     "output_type": "stream",
     "text": [
      "D:\\zANACONDA\\Lib\\site-packages\\paramiko\\transport.py:219: CryptographyDeprecationWarning: Blowfish has been deprecated\n",
      "  \"class\": algorithms.Blowfish,\n"
     ]
    }
   ],
   "source": [
    "import pymysql\n",
    "from sshtunnel import SSHTunnelForwarder\n",
    "from sqlalchemy import create_engine\n",
    "import pandas as pd\n",
    "\n",
    "# 建立ssh 连接\n",
    "server = SSHTunnelForwarder(ssh_address_or_host=('47.254.251.32', 22),   # 指定ssh登录的跳转机的address\n",
    "                            ssh_username='root',   # 跳转机的用户\n",
    "                            ssh_password='Glgjssyqyhfbqz1',   # 跳转机的密码\n",
    "                            remote_bind_address=('127.0.0.1', 3306))\n",
    "server.start() # 开始ssh 连接\n",
    "\n",
    "# 连接到数据库\n",
    "host = '127.0.0.1'   # 此处必须是 127.0.0.1 \n",
    "port = server.local_bind_port\n",
    "user = 'qf'\n",
    "passwd = 'root'\n",
    "db = 'qf'\n",
    "\n",
    "myConfig = pymysql.connect(user=user, passwd=passwd, \n",
    "                           host=host,\n",
    "                           port=port,\n",
    "                           db=db)\n",
    "\n",
    "cursor = myConfig.cursor()\n",
    "\n",
    "# 读取数据必须使用engine\n",
    "engine = create_engine(str(r'mysql+pymysql://%s:%s@%s:%s/%s?charset=utf8') % (user, passwd, host, port, db))"
   ]
  },
  {
   "cell_type": "code",
   "execution_count": 3,
   "id": "c3b96ba5",
   "metadata": {},
   "outputs": [],
   "source": [
    "sql_read = \"select * from net_income_data\"\n",
    "net_income_data = pd.read_sql_query(sql_read, myConfig)"
   ]
  },
  {
   "cell_type": "code",
   "execution_count": 4,
   "id": "d03d2933",
   "metadata": {},
   "outputs": [],
   "source": [
    "sql_read = \"select * from total_assets_data\"\n",
    "total_assets_data = pd.read_sql_query(sql_read, myConfig)"
   ]
  },
  {
   "cell_type": "code",
   "execution_count": 5,
   "id": "8dae354f",
   "metadata": {},
   "outputs": [],
   "source": [
    "sql_read = \"select * from sector_info\"\n",
    "sector_info = pd.read_sql_query(sql_read, myConfig)"
   ]
  },
  {
   "cell_type": "code",
   "execution_count": 6,
   "id": "39429550",
   "metadata": {},
   "outputs": [],
   "source": [
    "#行业成长能力\n",
    "df = pd.merge(sector_info,net_income_data,on='Symbol',how='right')\n",
    "growth_data = df[['Symbol','GICS Sector','2020','2021','2022','2023']]\n",
    "result = growth_data.groupby(growth_data['GICS Sector']).apply(lambda x: x[['2020','2021','2022','2023']].sum())"
   ]
  },
  {
   "cell_type": "code",
   "execution_count": 7,
   "id": "a969316a",
   "metadata": {},
   "outputs": [
    {
     "data": {
      "text/html": [
       "<div>\n",
       "<style scoped>\n",
       "    .dataframe tbody tr th:only-of-type {\n",
       "        vertical-align: middle;\n",
       "    }\n",
       "\n",
       "    .dataframe tbody tr th {\n",
       "        vertical-align: top;\n",
       "    }\n",
       "\n",
       "    .dataframe thead th {\n",
       "        text-align: right;\n",
       "    }\n",
       "</style>\n",
       "<table border=\"1\" class=\"dataframe\">\n",
       "  <thead>\n",
       "    <tr style=\"text-align: right;\">\n",
       "      <th></th>\n",
       "      <th>2020</th>\n",
       "      <th>2021</th>\n",
       "      <th>2022</th>\n",
       "      <th>2023</th>\n",
       "    </tr>\n",
       "    <tr>\n",
       "      <th>GICS Sector</th>\n",
       "      <th></th>\n",
       "      <th></th>\n",
       "      <th></th>\n",
       "      <th></th>\n",
       "    </tr>\n",
       "  </thead>\n",
       "  <tbody>\n",
       "    <tr>\n",
       "      <th>Communication Services</th>\n",
       "      <td>1.452715e+11</td>\n",
       "      <td>2.680594e+11</td>\n",
       "      <td>1.700113e+11</td>\n",
       "      <td>2.462545e+11</td>\n",
       "    </tr>\n",
       "    <tr>\n",
       "      <th>Consumer Discretionary</th>\n",
       "      <td>2.504597e+10</td>\n",
       "      <td>9.497147e+10</td>\n",
       "      <td>4.460155e+10</td>\n",
       "      <td>1.063863e+11</td>\n",
       "    </tr>\n",
       "    <tr>\n",
       "      <th>Consumer Staples</th>\n",
       "      <td>4.348720e+10</td>\n",
       "      <td>5.345219e+10</td>\n",
       "      <td>5.554804e+10</td>\n",
       "      <td>6.108528e+10</td>\n",
       "    </tr>\n",
       "    <tr>\n",
       "      <th>Energy</th>\n",
       "      <td>-1.028389e+11</td>\n",
       "      <td>8.347245e+10</td>\n",
       "      <td>2.133365e+11</td>\n",
       "      <td>1.454511e+11</td>\n",
       "    </tr>\n",
       "    <tr>\n",
       "      <th>Financials</th>\n",
       "      <td>2.368669e+11</td>\n",
       "      <td>4.535100e+11</td>\n",
       "      <td>2.303653e+11</td>\n",
       "      <td>3.606796e+11</td>\n",
       "    </tr>\n",
       "    <tr>\n",
       "      <th>Health Care</th>\n",
       "      <td>1.437535e+11</td>\n",
       "      <td>2.172073e+11</td>\n",
       "      <td>1.982447e+11</td>\n",
       "      <td>1.663638e+11</td>\n",
       "    </tr>\n",
       "    <tr>\n",
       "      <th>Industrials</th>\n",
       "      <td>2.301319e+10</td>\n",
       "      <td>9.428069e+10</td>\n",
       "      <td>1.027624e+11</td>\n",
       "      <td>1.093702e+11</td>\n",
       "    </tr>\n",
       "    <tr>\n",
       "      <th>Information Technology</th>\n",
       "      <td>4.811653e+10</td>\n",
       "      <td>5.804150e+10</td>\n",
       "      <td>4.711770e+10</td>\n",
       "      <td>4.365561e+10</td>\n",
       "    </tr>\n",
       "    <tr>\n",
       "      <th>Materials</th>\n",
       "      <td>1.758926e+10</td>\n",
       "      <td>5.593020e+10</td>\n",
       "      <td>5.489923e+10</td>\n",
       "      <td>3.165996e+10</td>\n",
       "    </tr>\n",
       "    <tr>\n",
       "      <th>Real Estate</th>\n",
       "      <td>1.820638e+10</td>\n",
       "      <td>2.813910e+10</td>\n",
       "      <td>2.957447e+10</td>\n",
       "      <td>2.645360e+10</td>\n",
       "    </tr>\n",
       "    <tr>\n",
       "      <th>Utilities</th>\n",
       "      <td>3.138228e+10</td>\n",
       "      <td>3.570517e+10</td>\n",
       "      <td>3.841992e+10</td>\n",
       "      <td>4.896023e+10</td>\n",
       "    </tr>\n",
       "  </tbody>\n",
       "</table>\n",
       "</div>"
      ],
      "text/plain": [
       "                                2020          2021          2022          2023\n",
       "GICS Sector                                                                   \n",
       "Communication Services  1.452715e+11  2.680594e+11  1.700113e+11  2.462545e+11\n",
       "Consumer Discretionary  2.504597e+10  9.497147e+10  4.460155e+10  1.063863e+11\n",
       "Consumer Staples        4.348720e+10  5.345219e+10  5.554804e+10  6.108528e+10\n",
       "Energy                 -1.028389e+11  8.347245e+10  2.133365e+11  1.454511e+11\n",
       "Financials              2.368669e+11  4.535100e+11  2.303653e+11  3.606796e+11\n",
       "Health Care             1.437535e+11  2.172073e+11  1.982447e+11  1.663638e+11\n",
       "Industrials             2.301319e+10  9.428069e+10  1.027624e+11  1.093702e+11\n",
       "Information Technology  4.811653e+10  5.804150e+10  4.711770e+10  4.365561e+10\n",
       "Materials               1.758926e+10  5.593020e+10  5.489923e+10  3.165996e+10\n",
       "Real Estate             1.820638e+10  2.813910e+10  2.957447e+10  2.645360e+10\n",
       "Utilities               3.138228e+10  3.570517e+10  3.841992e+10  4.896023e+10"
      ]
     },
     "execution_count": 7,
     "metadata": {},
     "output_type": "execute_result"
    }
   ],
   "source": [
    "result"
   ]
  },
  {
   "cell_type": "code",
   "execution_count": 8,
   "id": "dcceb71f",
   "metadata": {},
   "outputs": [],
   "source": [
    "growth_rates = {}\n",
    "for i in range(1, len(result.columns)):\n",
    "    current_year = result.columns[i]\n",
    "    last_year = result.columns[i-1]\n",
    "    # Calculate the growth rate between the current year and the last year\n",
    "    growth_rates[current_year] = (result[current_year] - result[last_year]) / result[last_year]\n",
    "\n",
    "# Convert the growth rates to a DataFrame for display\n",
    "growth_rates_df = pd.DataFrame(growth_rates)"
   ]
  },
  {
   "cell_type": "code",
   "execution_count": 9,
   "id": "8c5f8cd5",
   "metadata": {
    "scrolled": true
   },
   "outputs": [],
   "source": [
    "growth_rates_df=growth_rates_df.reset_index()"
   ]
  },
  {
   "cell_type": "code",
   "execution_count": 10,
   "id": "384a5ae2",
   "metadata": {},
   "outputs": [],
   "source": [
    "growth_rates_df=growth_rates_df.rename(columns={'GICS Sector':'GICS_Sector'})"
   ]
  },
  {
   "cell_type": "code",
   "execution_count": 11,
   "id": "efc3d106",
   "metadata": {},
   "outputs": [
    {
     "data": {
      "text/html": [
       "<div>\n",
       "<style scoped>\n",
       "    .dataframe tbody tr th:only-of-type {\n",
       "        vertical-align: middle;\n",
       "    }\n",
       "\n",
       "    .dataframe tbody tr th {\n",
       "        vertical-align: top;\n",
       "    }\n",
       "\n",
       "    .dataframe thead th {\n",
       "        text-align: right;\n",
       "    }\n",
       "</style>\n",
       "<table border=\"1\" class=\"dataframe\">\n",
       "  <thead>\n",
       "    <tr style=\"text-align: right;\">\n",
       "      <th></th>\n",
       "      <th>GICS_Sector</th>\n",
       "      <th>2021</th>\n",
       "      <th>2022</th>\n",
       "      <th>2023</th>\n",
       "    </tr>\n",
       "  </thead>\n",
       "  <tbody>\n",
       "    <tr>\n",
       "      <th>0</th>\n",
       "      <td>Communication Services</td>\n",
       "      <td>0.845231</td>\n",
       "      <td>-0.365770</td>\n",
       "      <td>0.448460</td>\n",
       "    </tr>\n",
       "    <tr>\n",
       "      <th>1</th>\n",
       "      <td>Consumer Discretionary</td>\n",
       "      <td>2.791886</td>\n",
       "      <td>-0.530369</td>\n",
       "      <td>1.385261</td>\n",
       "    </tr>\n",
       "    <tr>\n",
       "      <th>2</th>\n",
       "      <td>Consumer Staples</td>\n",
       "      <td>0.229148</td>\n",
       "      <td>0.039210</td>\n",
       "      <td>0.099684</td>\n",
       "    </tr>\n",
       "    <tr>\n",
       "      <th>3</th>\n",
       "      <td>Energy</td>\n",
       "      <td>-1.811682</td>\n",
       "      <td>1.555771</td>\n",
       "      <td>-0.318208</td>\n",
       "    </tr>\n",
       "    <tr>\n",
       "      <th>4</th>\n",
       "      <td>Financials</td>\n",
       "      <td>0.914620</td>\n",
       "      <td>-0.492039</td>\n",
       "      <td>0.565685</td>\n",
       "    </tr>\n",
       "    <tr>\n",
       "      <th>5</th>\n",
       "      <td>Health Care</td>\n",
       "      <td>0.510970</td>\n",
       "      <td>-0.087302</td>\n",
       "      <td>-0.160816</td>\n",
       "    </tr>\n",
       "    <tr>\n",
       "      <th>6</th>\n",
       "      <td>Industrials</td>\n",
       "      <td>3.096811</td>\n",
       "      <td>0.089963</td>\n",
       "      <td>0.064301</td>\n",
       "    </tr>\n",
       "    <tr>\n",
       "      <th>7</th>\n",
       "      <td>Information Technology</td>\n",
       "      <td>0.206270</td>\n",
       "      <td>-0.188207</td>\n",
       "      <td>-0.073477</td>\n",
       "    </tr>\n",
       "    <tr>\n",
       "      <th>8</th>\n",
       "      <td>Materials</td>\n",
       "      <td>2.179793</td>\n",
       "      <td>-0.018433</td>\n",
       "      <td>-0.423308</td>\n",
       "    </tr>\n",
       "    <tr>\n",
       "      <th>9</th>\n",
       "      <td>Real Estate</td>\n",
       "      <td>0.545563</td>\n",
       "      <td>0.051010</td>\n",
       "      <td>-0.105526</td>\n",
       "    </tr>\n",
       "    <tr>\n",
       "      <th>10</th>\n",
       "      <td>Utilities</td>\n",
       "      <td>0.137749</td>\n",
       "      <td>0.076032</td>\n",
       "      <td>0.274345</td>\n",
       "    </tr>\n",
       "  </tbody>\n",
       "</table>\n",
       "</div>"
      ],
      "text/plain": [
       "               GICS_Sector      2021      2022      2023\n",
       "0   Communication Services  0.845231 -0.365770  0.448460\n",
       "1   Consumer Discretionary  2.791886 -0.530369  1.385261\n",
       "2         Consumer Staples  0.229148  0.039210  0.099684\n",
       "3                   Energy -1.811682  1.555771 -0.318208\n",
       "4               Financials  0.914620 -0.492039  0.565685\n",
       "5              Health Care  0.510970 -0.087302 -0.160816\n",
       "6              Industrials  3.096811  0.089963  0.064301\n",
       "7   Information Technology  0.206270 -0.188207 -0.073477\n",
       "8                Materials  2.179793 -0.018433 -0.423308\n",
       "9              Real Estate  0.545563  0.051010 -0.105526\n",
       "10               Utilities  0.137749  0.076032  0.274345"
      ]
     },
     "execution_count": 11,
     "metadata": {},
     "output_type": "execute_result"
    }
   ],
   "source": [
    "growth_rates_df"
   ]
  },
  {
   "cell_type": "code",
   "execution_count": 12,
   "id": "593727b8",
   "metadata": {},
   "outputs": [
    {
     "data": {
      "text/plain": [
       "11"
      ]
     },
     "execution_count": 12,
     "metadata": {},
     "output_type": "execute_result"
    }
   ],
   "source": [
    "growth_rates_df.to_sql('industry_growth_rates', engine)"
   ]
  },
  {
   "cell_type": "code",
   "execution_count": 13,
   "id": "3616e0ee",
   "metadata": {},
   "outputs": [],
   "source": [
    "#行业盈利能力\n",
    "net_income_data1 = net_income_data.set_index([\"Symbol\"]).drop(['index'],axis=1)\n",
    "total_assets_data1 = total_assets_data.set_index([\"Symbol\"]).drop(['index'],axis=1)\n",
    "ROE = net_income_data1.div(total_assets_data1)\n",
    "\n",
    "df = pd.merge(sector_info,ROE,on='Symbol',how='right')\n",
    "ROE_data = df[['Symbol','GICS Sector','2020','2021','2022','2023']]\n",
    "result = ROE_data.groupby(ROE_data['GICS Sector']).apply(lambda x: x[['2020','2021','2022','2023']].sum())"
   ]
  },
  {
   "cell_type": "code",
   "execution_count": 14,
   "id": "c15a4d33",
   "metadata": {},
   "outputs": [],
   "source": [
    "profit_rates = {}\n",
    "for i in range(1, len(result.columns)):\n",
    "    current_year = result.columns[i]\n",
    "    last_year = result.columns[i-1]\n",
    "    # Calculate the profit rate between the current year and the last year\n",
    "    profit_rates [current_year] = (result[current_year] - result[last_year]) / result[last_year]\n",
    "\n",
    "# Convert the growth rates to a DataFrame for display\n",
    "profit_rates_df = pd.DataFrame(profit_rates)"
   ]
  },
  {
   "cell_type": "code",
   "execution_count": 15,
   "id": "322054f0",
   "metadata": {},
   "outputs": [],
   "source": [
    "profit_rates_df=profit_rates_df.reset_index()"
   ]
  },
  {
   "cell_type": "code",
   "execution_count": 16,
   "id": "13de0d5e",
   "metadata": {},
   "outputs": [],
   "source": [
    "profit_rates_df=profit_rates_df.rename(columns={'GICS Sector':'GICS_Sector'})"
   ]
  },
  {
   "cell_type": "code",
   "execution_count": 17,
   "id": "8e736907",
   "metadata": {
    "scrolled": true
   },
   "outputs": [
    {
     "data": {
      "text/html": [
       "<div>\n",
       "<style scoped>\n",
       "    .dataframe tbody tr th:only-of-type {\n",
       "        vertical-align: middle;\n",
       "    }\n",
       "\n",
       "    .dataframe tbody tr th {\n",
       "        vertical-align: top;\n",
       "    }\n",
       "\n",
       "    .dataframe thead th {\n",
       "        text-align: right;\n",
       "    }\n",
       "</style>\n",
       "<table border=\"1\" class=\"dataframe\">\n",
       "  <thead>\n",
       "    <tr style=\"text-align: right;\">\n",
       "      <th></th>\n",
       "      <th>GICS_Sector</th>\n",
       "      <th>2021</th>\n",
       "      <th>2022</th>\n",
       "      <th>2023</th>\n",
       "    </tr>\n",
       "  </thead>\n",
       "  <tbody>\n",
       "    <tr>\n",
       "      <th>0</th>\n",
       "      <td>Communication Services</td>\n",
       "      <td>0.810609</td>\n",
       "      <td>-0.311467</td>\n",
       "      <td>0.329709</td>\n",
       "    </tr>\n",
       "    <tr>\n",
       "      <th>1</th>\n",
       "      <td>Consumer Discretionary</td>\n",
       "      <td>1.795054</td>\n",
       "      <td>-0.130152</td>\n",
       "      <td>0.305431</td>\n",
       "    </tr>\n",
       "    <tr>\n",
       "      <th>2</th>\n",
       "      <td>Consumer Staples</td>\n",
       "      <td>0.140479</td>\n",
       "      <td>-0.104139</td>\n",
       "      <td>0.092443</td>\n",
       "    </tr>\n",
       "    <tr>\n",
       "      <th>3</th>\n",
       "      <td>Energy</td>\n",
       "      <td>-1.500776</td>\n",
       "      <td>1.596937</td>\n",
       "      <td>-0.302593</td>\n",
       "    </tr>\n",
       "    <tr>\n",
       "      <th>4</th>\n",
       "      <td>Financials</td>\n",
       "      <td>0.300583</td>\n",
       "      <td>-0.416349</td>\n",
       "      <td>0.218805</td>\n",
       "    </tr>\n",
       "    <tr>\n",
       "      <th>5</th>\n",
       "      <td>Health Care</td>\n",
       "      <td>0.193378</td>\n",
       "      <td>-0.348352</td>\n",
       "      <td>-0.070685</td>\n",
       "    </tr>\n",
       "    <tr>\n",
       "      <th>6</th>\n",
       "      <td>Industrials</td>\n",
       "      <td>0.549211</td>\n",
       "      <td>0.073732</td>\n",
       "      <td>-0.067006</td>\n",
       "    </tr>\n",
       "    <tr>\n",
       "      <th>7</th>\n",
       "      <td>Information Technology</td>\n",
       "      <td>0.095149</td>\n",
       "      <td>-0.029156</td>\n",
       "      <td>-0.050512</td>\n",
       "    </tr>\n",
       "    <tr>\n",
       "      <th>8</th>\n",
       "      <td>Materials</td>\n",
       "      <td>1.118339</td>\n",
       "      <td>0.046705</td>\n",
       "      <td>-0.378984</td>\n",
       "    </tr>\n",
       "    <tr>\n",
       "      <th>9</th>\n",
       "      <td>Real Estate</td>\n",
       "      <td>0.406507</td>\n",
       "      <td>0.070523</td>\n",
       "      <td>-0.218128</td>\n",
       "    </tr>\n",
       "    <tr>\n",
       "      <th>10</th>\n",
       "      <td>Utilities</td>\n",
       "      <td>0.096526</td>\n",
       "      <td>-0.028345</td>\n",
       "      <td>0.120583</td>\n",
       "    </tr>\n",
       "  </tbody>\n",
       "</table>\n",
       "</div>"
      ],
      "text/plain": [
       "               GICS_Sector      2021      2022      2023\n",
       "0   Communication Services  0.810609 -0.311467  0.329709\n",
       "1   Consumer Discretionary  1.795054 -0.130152  0.305431\n",
       "2         Consumer Staples  0.140479 -0.104139  0.092443\n",
       "3                   Energy -1.500776  1.596937 -0.302593\n",
       "4               Financials  0.300583 -0.416349  0.218805\n",
       "5              Health Care  0.193378 -0.348352 -0.070685\n",
       "6              Industrials  0.549211  0.073732 -0.067006\n",
       "7   Information Technology  0.095149 -0.029156 -0.050512\n",
       "8                Materials  1.118339  0.046705 -0.378984\n",
       "9              Real Estate  0.406507  0.070523 -0.218128\n",
       "10               Utilities  0.096526 -0.028345  0.120583"
      ]
     },
     "execution_count": 17,
     "metadata": {},
     "output_type": "execute_result"
    }
   ],
   "source": [
    "profit_rates_df"
   ]
  },
  {
   "cell_type": "code",
   "execution_count": 18,
   "id": "bceaf106",
   "metadata": {},
   "outputs": [
    {
     "data": {
      "text/plain": [
       "11"
      ]
     },
     "execution_count": 18,
     "metadata": {},
     "output_type": "execute_result"
    }
   ],
   "source": [
    "profit_rates_df.to_sql('industry_profit_rates', engine)"
   ]
  },
  {
   "cell_type": "code",
   "execution_count": null,
   "id": "850b918f",
   "metadata": {},
   "outputs": [],
   "source": []
  }
 ],
 "metadata": {
  "kernelspec": {
   "display_name": "Python 3 (ipykernel)",
   "language": "python",
   "name": "python3"
  },
  "language_info": {
   "codemirror_mode": {
    "name": "ipython",
    "version": 3
   },
   "file_extension": ".py",
   "mimetype": "text/x-python",
   "name": "python",
   "nbconvert_exporter": "python",
   "pygments_lexer": "ipython3",
   "version": "3.11.5"
  }
 },
 "nbformat": 4,
 "nbformat_minor": 5
}
